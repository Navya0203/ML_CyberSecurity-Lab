{
  "nbformat": 4,
  "nbformat_minor": 0,
  "metadata": {
    "colab": {
      "provenance": []
    },
    "kernelspec": {
      "name": "python3",
      "display_name": "Python 3"
    },
    "language_info": {
      "name": "python"
    }
  },
  "cells": [
    {
      "cell_type": "markdown",
      "source": [
        "# 1. Preparing the Zip File"
      ],
      "metadata": {
        "id": "xZdXj_QhyvMR"
      }
    },
    {
      "cell_type": "markdown",
      "source": [
        "## i. Mount Google Drive in Colab"
      ],
      "metadata": {
        "id": "QT9KDTqqwmWX"
      }
    },
    {
      "cell_type": "code",
      "source": [
        "from google.colab import drive\n",
        "drive.mount('/content/drive')"
      ],
      "metadata": {
        "id": "Mou4JkI6v-v0"
      },
      "execution_count": null,
      "outputs": []
    },
    {
      "cell_type": "markdown",
      "source": [
        "## ii. Access the Shared Google Drive Folder"
      ],
      "metadata": {
        "id": "bfmXGwajxEEj"
      }
    },
    {
      "cell_type": "code",
      "source": [
        "!ls /content/drive/MyDrive/ML_Cybersec-Lab01/"
      ],
      "metadata": {
        "id": "pXjGRSTqwBxZ"
      },
      "execution_count": null,
      "outputs": []
    },
    {
      "cell_type": "markdown",
      "source": [
        "## iii. Unzip the File in Colab"
      ],
      "metadata": {
        "id": "uHG53derxYCw"
      }
    },
    {
      "cell_type": "code",
      "source": [
        "!pip install gdown\n",
        "!gdown --folder https://drive.google.com/drive/folders/1rFIuARy-FwO9j_43Fvp_YFCM5i5v32dB -O /content/drive/MyDrive/ML_Cybersec-Lab01/"
      ],
      "metadata": {
        "id": "x_-zt4MIwEBq"
      },
      "execution_count": null,
      "outputs": []
    },
    {
      "cell_type": "code",
      "source": [
        "import zipfile\n",
        "\n",
        "# Unzipping the file in Colab\n",
        "with zipfile.ZipFile('/content/drive/MyDrive/ML_Cybersec-Lab01/NYU Malware Homework-1/Hw1.zip', 'r') as zip_ref:\n",
        "    zip_ref.extractall('/content/Hw1')"
      ],
      "metadata": {
        "id": "lmOh5wPOwGLM"
      },
      "execution_count": null,
      "outputs": []
    },
    {
      "cell_type": "markdown",
      "source": [
        "# 2. Extracting Data from JSON Files"
      ],
      "metadata": {
        "id": "IMsKy8LAy8ju"
      }
    },
    {
      "cell_type": "markdown",
      "source": [
        "## i. Load and Parse Multiple JSON Files and Feature Extraction"
      ],
      "metadata": {
        "id": "WG5Q5auOl9Rx"
      }
    },
    {
      "cell_type": "code",
      "source": [],
      "metadata": {
        "id": "eryKa4EwyRsB"
      },
      "execution_count": null,
      "outputs": []
    },
    {
      "cell_type": "code",
      "source": [
        "!rm -rf /content/Hw1/__MACOSX"
      ],
      "metadata": {
        "id": "d4E1BknemPNq"
      },
      "execution_count": null,
      "outputs": []
    },
    {
      "cell_type": "code",
      "source": [
        "import os\n",
        "import json\n",
        "import pandas as pd\n",
        "\n",
        "# Define the path to the root folder containing 'Benign' and 'Malware' folders\n",
        "root_folder = '/content/Hw1'  # Modify this to match your folder path\n",
        "\n",
        "# Function to extract features from JSON files\n",
        "def extract_features_from_json(json_data):\n",
        "    features = {}\n",
        "\n",
        "    # Extract general file information\n",
        "\n",
        "    features['file_size'] = json_data.get('target', {}).get('file', {}).get('size', 0)\n",
        "\n",
        "    features['score'] = json_data.get('info', {}).get('score', 0)\n",
        "    features['duration'] = json_data.get('info', {}).get('duration', 0)\n",
        "\n",
        "    # Extract network features (defaulting to 0 if not available)\n",
        "    network_data = json_data.get('network', {})\n",
        "    features['udp_count'] = len(network_data.get('udp', []))\n",
        "    features['tcp_count'] = len(network_data.get('tcp', []))\n",
        "    features['icmp_count'] = len(network_data.get('icmp', []))\n",
        "\n",
        "    # Extract behavior features (API calls, registry accesses)\n",
        "    behavior_data = json_data.get('behavior', {}).get('generic', [])\n",
        "    dlls_loaded = []\n",
        "    reg_keys_opened = []\n",
        "\n",
        "    for behavior in behavior_data:\n",
        "        dlls_loaded.extend(behavior.get('summary', {}).get('dll_loaded', []))\n",
        "        reg_keys_opened.extend(behavior.get('summary', {}).get('regkey_opened', []))\n",
        "\n",
        "    features['dlls_loaded_count'] = len(dlls_loaded)\n",
        "    features['reg_keys_opened_count'] = len(reg_keys_opened)\n",
        "\n",
        "    return features\n",
        "\n",
        "# Function to load all JSON files and extract features\n",
        "def load_and_extract_features(folder_path):\n",
        "    data = []\n",
        "    labels = []\n",
        "\n",
        "    for root, dirs, files in os.walk(folder_path):\n",
        "        for file in files:\n",
        "            if file.endswith('.json'):\n",
        "                file_path = os.path.join(root, file)\n",
        "                try:\n",
        "                    # Attempt to open with UTF-8 first\n",
        "                    with open(file_path, 'r', encoding='utf-8') as f:\n",
        "                        content = f.read().strip()\n",
        "                        # Check if file is empty\n",
        "                        if not content:\n",
        "                            print(f\"Skipping empty file: {file_path}\")\n",
        "                            continue\n",
        "                        json_data = json.loads(content)\n",
        "                except UnicodeDecodeError:\n",
        "                    # If UTF-8 fails, try ISO-8859-1 (Latin-1) encoding\n",
        "                    try:\n",
        "                        with open(file_path, 'r', encoding='ISO-8859-1') as f:\n",
        "                            content = f.read().strip()\n",
        "                            if not content:\n",
        "                                print(f\"Skipping empty file: {file_path}\")\n",
        "                                continue\n",
        "                            json_data = json.loads(content)\n",
        "                    except json.JSONDecodeError as e:\n",
        "                        print(f\"Skipping invalid JSON file: {file_path} (Error: {e})\")\n",
        "                        continue\n",
        "                except json.JSONDecodeError as e:\n",
        "                    print(f\"Skipping invalid JSON file: {file_path} (Error: {e})\")\n",
        "                    continue\n",
        "\n",
        "                # Extract features and append them to data\n",
        "                features = extract_features_from_json(json_data)\n",
        "\n",
        "                # Append features and label (0 for benign, 1 for malware)\n",
        "                if 'Benign' in root:\n",
        "                    labels.append(0)\n",
        "                else:\n",
        "                    labels.append(1)\n",
        "\n",
        "                data.append(features)\n",
        "\n",
        "    return pd.DataFrame(data), labels\n",
        "\n",
        "# Load JSON data from 'Benign' and 'Malware' folders\n",
        "df, labels = load_and_extract_features(root_folder)\n",
        "\n",
        "# Add labels to the dataframe\n",
        "df['label'] = labels\n",
        "\n",
        "# Specify full path if needed\n",
        "output_csv_path = '/content/drive/MyDrive/ML_Cybersec-Lab01/malware_detection_data.csv'\n",
        "\n",
        "# Save the extracted features to a CSV file\n",
        "df.to_csv(output_csv_path, index=False)\n",
        "print(f\"Features extracted and saved to '{output_csv_path}'\")\n"
      ],
      "metadata": {
        "colab": {
          "base_uri": "https://localhost:8080/"
        },
        "id": "Ml4R3IRrtC-6",
        "outputId": "faa9c82a-e236-4746-c2fb-6af1f7820596"
      },
      "execution_count": null,
      "outputs": [
        {
          "output_type": "stream",
          "name": "stdout",
          "text": [
            "Features extracted and saved to '/content/drive/MyDrive/ML_Cybersec-Lab01/malware_detection_data.csv'\n"
          ]
        }
      ]
    },
    {
      "cell_type": "code",
      "source": [],
      "metadata": {
        "id": "LOu0mnKYCoz-"
      },
      "execution_count": null,
      "outputs": []
    }
  ]
}